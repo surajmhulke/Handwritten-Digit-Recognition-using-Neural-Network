{
  "nbformat": 4,
  "nbformat_minor": 0,
  "metadata": {
    "colab": {
      "provenance": []
    },
    "kernelspec": {
      "name": "python3",
      "display_name": "Python 3"
    },
    "language_info": {
      "name": "python"
    }
  },
  "cells": [
    {
      "cell_type": "code",
      "source": [
        "import keras\n",
        "from keras.datasets import mnist\n",
        "from keras.models import Sequential\n",
        "from keras.layers import Dense, Flatten, Dropout, Conv2D, MaxPooling2D\n",
        "from keras import backend as K\n",
        "\n",
        "# Load the MNIST dataset and split it into training and testing sets\n",
        "(x_train, y_train), (x_test, y_test) = mnist.load_data()\n",
        "\n",
        "# Preprocess the data\n",
        "x_train = x_train.reshape(x_train.shape[0], 28, 28, 1)\n",
        "x_test = x_test.reshape(x_test.shape[0], 28, 28, 1)\n",
        "input_shape = (28, 28, 1)\n",
        "\n",
        "x_train = x_train.astype('float32')\n",
        "x_test = x_test.astype('float32')\n",
        "x_train /= 255\n",
        "x_test /= 255\n",
        "\n",
        "# Convert labels to one-hot encoding\n",
        "num_classes = 10\n",
        "y_train = keras.utils.to_categorical(y_train, num_classes)\n",
        "y_test = keras.utils.to_categorical(y_test, num_classes)\n",
        "\n",
        "# Create a Sequential model\n",
        "model = Sequential()\n",
        "\n",
        "# Add convolutional layers\n",
        "model.add(Conv2D(32, kernel_size=(3, 3), activation='relu', input_shape=input_shape))\n",
        "model.add(Conv2D(64, (3, 3), activation='relu'))\n",
        "model.add(MaxPooling2D(pool_size=(2, 2)))\n",
        "model.add(Dropout(0.25))\n",
        "model.add(Flatten())\n",
        "\n",
        "# Add fully connected layers\n",
        "model.add(Dense(128, activation='relu'))\n",
        "model.add(Dropout(0.5))\n",
        "model.add(Dense(num_classes, activation='softmax'))\n",
        "\n",
        "# Compile the model\n",
        "model.compile(loss=keras.losses.categorical_crossentropy,\n",
        "              optimizer=keras.optimizers.Adadelta(),\n",
        "              metrics=['accuracy'])\n",
        "\n",
        "# Train the model\n",
        "model.fit(x_train, y_train,\n",
        "          batch_size=128,\n",
        "          epochs=12,\n",
        "          verbose=1,\n",
        "          validation_data=(x_test, y_test))\n",
        "\n",
        "# Evaluate the model\n",
        "score = model.evaluate(x_test, y_test, verbose=0)\n",
        "print('Test loss:', score[0])\n",
        "print('Test accuracy:', score[1])\n"
      ],
      "metadata": {
        "colab": {
          "base_uri": "https://localhost:8080/"
        },
        "id": "Jg2HNttQ1pM7",
        "outputId": "1ab08138-990a-4c7e-e342-ffad20b82de6"
      },
      "execution_count": null,
      "outputs": [
        {
          "output_type": "stream",
          "name": "stdout",
          "text": [
            "Downloading data from https://storage.googleapis.com/tensorflow/tf-keras-datasets/mnist.npz\n",
            "11490434/11490434 [==============================] - 1s 0us/step\n",
            "Epoch 1/12\n",
            "469/469 [==============================] - 154s 325ms/step - loss: 2.2741 - accuracy: 0.1566 - val_loss: 2.2194 - val_accuracy: 0.3622\n",
            "Epoch 2/12\n",
            "469/469 [==============================] - 154s 327ms/step - loss: 2.1920 - accuracy: 0.2755 - val_loss: 2.1206 - val_accuracy: 0.5569\n",
            "Epoch 3/12\n",
            "469/469 [==============================] - 149s 318ms/step - loss: 2.0904 - accuracy: 0.3886 - val_loss: 1.9897 - val_accuracy: 0.6577\n",
            "Epoch 4/12\n",
            "469/469 [==============================] - 151s 321ms/step - loss: 1.9549 - accuracy: 0.4789 - val_loss: 1.8168 - val_accuracy: 0.7263\n",
            "Epoch 5/12\n",
            "469/469 [==============================] - 149s 317ms/step - loss: 1.7910 - accuracy: 0.5444 - val_loss: 1.6107 - val_accuracy: 0.7660\n",
            "Epoch 6/12\n",
            "469/469 [==============================] - 154s 329ms/step - loss: 1.6068 - accuracy: 0.5975 - val_loss: 1.3904 - val_accuracy: 0.7876\n",
            "Epoch 7/12\n",
            "469/469 [==============================] - 149s 317ms/step - loss: 1.4273 - accuracy: 0.6342 - val_loss: 1.1853 - val_accuracy: 0.8029\n",
            "Epoch 8/12\n",
            "469/469 [==============================] - 156s 333ms/step - loss: 1.2730 - accuracy: 0.6599 - val_loss: 1.0148 - val_accuracy: 0.8165\n",
            "Epoch 9/12\n",
            "469/469 [==============================] - 155s 331ms/step - loss: 1.1467 - accuracy: 0.6832 - val_loss: 0.8831 - val_accuracy: 0.8256\n",
            "Epoch 10/12\n",
            "469/469 [==============================] - 148s 316ms/step - loss: 1.0454 - accuracy: 0.7022 - val_loss: 0.7837 - val_accuracy: 0.8351\n",
            "Epoch 11/12\n",
            "469/469 [==============================] - 155s 331ms/step - loss: 0.9669 - accuracy: 0.7199 - val_loss: 0.7085 - val_accuracy: 0.8438\n",
            "Epoch 12/12\n",
            "469/469 [==============================] - 155s 331ms/step - loss: 0.9036 - accuracy: 0.7318 - val_loss: 0.6499 - val_accuracy: 0.8500\n",
            "Test loss: 0.6499320268630981\n",
            "Test accuracy: 0.8500000238418579\n"
          ]
        }
      ]
    }
  ]
}